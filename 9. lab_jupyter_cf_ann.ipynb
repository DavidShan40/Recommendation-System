{
 "cells": [
  {
   "cell_type": "markdown",
   "metadata": {},
   "source": [
    "<p style=\"text-align:center\">\n",
    "    <a href=\"https://skills.network/?utm_medium=Exinfluencer&utm_source=Exinfluencer&utm_content=000026UJ&utm_term=10006555&utm_id=NA-SkillsNetwork-Channel-SkillsNetworkCoursesIBMML321ENSkillsNetwork32585014-2022-01-01\" target=\"_blank\">\n",
    "    <img src=\"https://cf-courses-data.s3.us.cloud-object-storage.appdomain.cloud/assets/logos/SN_web_lightmode.png\" width=\"200\" alt=\"Skills Network Logo\"  />\n",
    "    </a>\n",
    "</p>\n"
   ]
  },
  {
   "cell_type": "markdown",
   "metadata": {},
   "source": [
    "# **Course Rating Prediction using Neural Networks**\n"
   ]
  },
  {
   "cell_type": "markdown",
   "metadata": {},
   "source": [
    "Estimated time needed: **60** minutes\n"
   ]
  },
  {
   "cell_type": "markdown",
   "metadata": {},
   "source": [
    "In the previous labs, we have crafted several types of user and item feature vectors.  For example, given a user `i`, we may build its profile feature vector and course rating feature vector, and given an item `j`, we may create its genre vector and user enrollment vectors.\n"
   ]
  },
  {
   "cell_type": "markdown",
   "metadata": {},
   "source": [
    "With these explicit features vectors, we can perform machine learning tasks such as calculating the similarities among users or items, finding nearest neighbors, and using dot-product to estimate a rating value.\n",
    "\n",
    "The main advantage of using these explicit features is they are highly interpretable and yield very good performance as well. The main disadvantage is we need to spend quite some effort to build and store them.\n"
   ]
  },
  {
   "cell_type": "markdown",
   "metadata": {},
   "source": [
    "![](https://cf-courses-data.s3.us.cloud-object-storage.appdomain.cloud/IBM-ML321EN-SkillsNetwork/labs/module\\_4/images/explicit_user_item_features.png)\n"
   ]
  },
  {
   "cell_type": "markdown",
   "metadata": {},
   "source": [
    "Is it possible to predict a rating without building explicit feature vectors beforehand?\n",
    "\n",
    "Yes, as you may recall, the Non-negative Matrix Factorization decomposes the user-item interaction matrix into user matrix and item matrix, which contain the latent features of users and items and you can simply dot-product them to get an estimated rating.\n"
   ]
  },
  {
   "cell_type": "markdown",
   "metadata": {},
   "source": [
    "![](https://cf-courses-data.s3.us.cloud-object-storage.appdomain.cloud/IBM-ML321EN-SkillsNetwork/labs/module\\_4/images/nmf.png)\n"
   ]
  },
  {
   "cell_type": "markdown",
   "metadata": {},
   "source": [
    "In addition to NMF, neural networks can also be used to extract the latent user and item features?  In fact,  neural networks are very good at learning patterns from data and are widely used to extract latent features.  When training neural networks, it gradually captures and stores the features within its hidden layers as weight matrices and can be extracted to represent the original data.\n"
   ]
  },
  {
   "cell_type": "markdown",
   "metadata": {},
   "source": [
    "In this lab, you will be training neural networks to predict course ratings while simultaneously extracting users' and items' latent features.\n"
   ]
  },
  {
   "cell_type": "markdown",
   "metadata": {},
   "source": [
    "## Objectives\n"
   ]
  },
  {
   "cell_type": "markdown",
   "metadata": {},
   "source": [
    "After completing this lab you will be able to:\n"
   ]
  },
  {
   "cell_type": "markdown",
   "metadata": {},
   "source": [
    "*   Use `tensorflow` to train neural networks to extract the user and item latent features from the hidden's layers\n",
    "*   Predict course ratings with trained neural networks\n"
   ]
  },
  {
   "cell_type": "markdown",
   "metadata": {},
   "source": [
    "***\n"
   ]
  },
  {
   "cell_type": "markdown",
   "metadata": {},
   "source": [
    "## Prepare and setup lab environment\n"
   ]
  },
  {
   "cell_type": "markdown",
   "metadata": {},
   "source": [
    "Install tensorflow 2.7 if not installed before in your Python environment\n"
   ]
  },
  {
   "cell_type": "code",
   "execution_count": 1,
   "metadata": {},
   "outputs": [
    {
     "name": "stdout",
     "output_type": "stream",
     "text": [
      "Requirement already satisfied: tensorflow==2.7.0 in c:\\users\\24937\\anaconda3\\lib\\site-packages (2.7.0)\n",
      "Requirement already satisfied: numpy>=1.14.5 in c:\\users\\24937\\anaconda3\\lib\\site-packages (from tensorflow==2.7.0) (1.20.3)\n",
      "Requirement already satisfied: protobuf>=3.9.2 in c:\\users\\24937\\anaconda3\\lib\\site-packages (from tensorflow==2.7.0) (3.15.5)\n",
      "Requirement already satisfied: grpcio<2.0,>=1.24.3 in c:\\users\\24937\\anaconda3\\lib\\site-packages (from tensorflow==2.7.0) (1.32.0)\n",
      "Requirement already satisfied: keras-preprocessing>=1.1.1 in c:\\users\\24937\\anaconda3\\lib\\site-packages (from tensorflow==2.7.0) (1.1.2)\n",
      "Requirement already satisfied: six>=1.12.0 in c:\\users\\24937\\anaconda3\\lib\\site-packages (from tensorflow==2.7.0) (1.15.0)\n",
      "Requirement already satisfied: keras<2.8,>=2.7.0rc0 in c:\\users\\24937\\anaconda3\\lib\\site-packages (from tensorflow==2.7.0) (2.7.0)\n",
      "Requirement already satisfied: astunparse>=1.6.0 in c:\\users\\24937\\anaconda3\\lib\\site-packages (from tensorflow==2.7.0) (1.6.3)\n",
      "Requirement already satisfied: absl-py>=0.4.0 in c:\\users\\24937\\anaconda3\\lib\\site-packages (from tensorflow==2.7.0) (0.11.0)\n",
      "Requirement already satisfied: libclang>=9.0.1 in c:\\users\\24937\\anaconda3\\lib\\site-packages (from tensorflow==2.7.0) (14.0.6)\n",
      "Requirement already satisfied: h5py>=2.9.0 in c:\\users\\24937\\anaconda3\\lib\\site-packages (from tensorflow==2.7.0) (2.10.0)\n",
      "Requirement already satisfied: typing-extensions>=3.6.6 in c:\\users\\24937\\anaconda3\\lib\\site-packages (from tensorflow==2.7.0) (3.7.4.1)\n",
      "Requirement already satisfied: wrapt>=1.11.0 in c:\\users\\24937\\anaconda3\\lib\\site-packages (from tensorflow==2.7.0) (1.12.1)\n",
      "Requirement already satisfied: opt-einsum>=2.3.2 in c:\\users\\24937\\anaconda3\\lib\\site-packages (from tensorflow==2.7.0) (3.3.0)\n",
      "Requirement already satisfied: tensorflow-io-gcs-filesystem>=0.21.0 in c:\\users\\24937\\anaconda3\\lib\\site-packages (from tensorflow==2.7.0) (0.26.0)\n",
      "Requirement already satisfied: tensorboard~=2.6 in c:\\users\\24937\\anaconda3\\lib\\site-packages (from tensorflow==2.7.0) (2.9.1)\n",
      "Requirement already satisfied: google-pasta>=0.1.1 in c:\\users\\24937\\anaconda3\\lib\\site-packages (from tensorflow==2.7.0) (0.2.0)\n",
      "Requirement already satisfied: tensorflow-estimator<2.8,~=2.7.0rc0 in c:\\users\\24937\\anaconda3\\lib\\site-packages (from tensorflow==2.7.0) (2.7.0)\n",
      "Requirement already satisfied: termcolor>=1.1.0 in c:\\users\\24937\\anaconda3\\lib\\site-packages (from tensorflow==2.7.0) (1.1.0)\n",
      "Requirement already satisfied: gast<0.5.0,>=0.2.1 in c:\\users\\24937\\anaconda3\\lib\\site-packages (from tensorflow==2.7.0) (0.3.3)\n",
      "Requirement already satisfied: flatbuffers<3.0,>=1.12 in c:\\users\\24937\\anaconda3\\lib\\site-packages (from tensorflow==2.7.0) (1.12)\n",
      "Requirement already satisfied: wheel<1.0,>=0.32.0 in c:\\users\\24937\\anaconda3\\lib\\site-packages (from tensorflow==2.7.0) (0.36.2)\n",
      "Requirement already satisfied: werkzeug>=1.0.1 in c:\\users\\24937\\anaconda3\\lib\\site-packages (from tensorboard~=2.6->tensorflow==2.7.0) (1.0.1)\n",
      "Requirement already satisfied: requests<3,>=2.21.0 in c:\\users\\24937\\appdata\\roaming\\python\\python37\\site-packages (from tensorboard~=2.6->tensorflow==2.7.0) (2.23.0)\n",
      "Requirement already satisfied: google-auth<3,>=1.6.3 in c:\\users\\24937\\anaconda3\\lib\\site-packages (from tensorboard~=2.6->tensorflow==2.7.0) (1.27.1)\n",
      "Requirement already satisfied: tensorboard-plugin-wit>=1.6.0 in c:\\users\\24937\\anaconda3\\lib\\site-packages (from tensorboard~=2.6->tensorflow==2.7.0) (1.8.0)\n",
      "Requirement already satisfied: setuptools>=41.0.0 in c:\\users\\24937\\anaconda3\\lib\\site-packages (from tensorboard~=2.6->tensorflow==2.7.0) (47.1.1.post20200604)\n",
      "Requirement already satisfied: markdown>=2.6.8 in c:\\users\\24937\\anaconda3\\lib\\site-packages (from tensorboard~=2.6->tensorflow==2.7.0) (3.3.4)\n",
      "Requirement already satisfied: tensorboard-data-server<0.7.0,>=0.6.0 in c:\\users\\24937\\anaconda3\\lib\\site-packages (from tensorboard~=2.6->tensorflow==2.7.0) (0.6.1)\n",
      "Requirement already satisfied: google-auth-oauthlib<0.5,>=0.4.1 in c:\\users\\24937\\anaconda3\\lib\\site-packages (from tensorboard~=2.6->tensorflow==2.7.0) (0.4.3)\n",
      "Requirement already satisfied: urllib3!=1.25.0,!=1.25.1,<1.26,>=1.21.1 in c:\\users\\24937\\anaconda3\\lib\\site-packages (from requests<3,>=2.21.0->tensorboard~=2.6->tensorflow==2.7.0) (1.25.8)\n",
      "Requirement already satisfied: certifi>=2017.4.17 in c:\\users\\24937\\anaconda3\\lib\\site-packages (from requests<3,>=2.21.0->tensorboard~=2.6->tensorflow==2.7.0) (2022.6.15)\n",
      "Requirement already satisfied: chardet<4,>=3.0.2 in c:\\users\\24937\\anaconda3\\lib\\site-packages (from requests<3,>=2.21.0->tensorboard~=2.6->tensorflow==2.7.0) (3.0.4)\n",
      "Requirement already satisfied: idna<3,>=2.5 in c:\\users\\24937\\anaconda3\\lib\\site-packages (from requests<3,>=2.21.0->tensorboard~=2.6->tensorflow==2.7.0) (2.9)\n",
      "Requirement already satisfied: cachetools<5.0,>=2.0.0 in c:\\users\\24937\\anaconda3\\lib\\site-packages (from google-auth<3,>=1.6.3->tensorboard~=2.6->tensorflow==2.7.0) (4.2.1)\n",
      "Requirement already satisfied: rsa<5,>=3.1.4; python_version >= \"3.6\" in c:\\users\\24937\\anaconda3\\lib\\site-packages (from google-auth<3,>=1.6.3->tensorboard~=2.6->tensorflow==2.7.0) (4.7.2)\n",
      "Requirement already satisfied: pyasn1-modules>=0.2.1 in c:\\users\\24937\\anaconda3\\lib\\site-packages (from google-auth<3,>=1.6.3->tensorboard~=2.6->tensorflow==2.7.0) (0.2.8)\n",
      "Requirement already satisfied: importlib-metadata; python_version < \"3.8\" in c:\\users\\24937\\anaconda3\\lib\\site-packages (from markdown>=2.6.8->tensorboard~=2.6->tensorflow==2.7.0) (1.6.0)\n",
      "Requirement already satisfied: requests-oauthlib>=0.7.0 in c:\\users\\24937\\anaconda3\\lib\\site-packages (from google-auth-oauthlib<0.5,>=0.4.1->tensorboard~=2.6->tensorflow==2.7.0) (1.3.0)\n",
      "Requirement already satisfied: pyasn1>=0.1.3 in c:\\users\\24937\\anaconda3\\lib\\site-packages (from rsa<5,>=3.1.4; python_version >= \"3.6\"->google-auth<3,>=1.6.3->tensorboard~=2.6->tensorflow==2.7.0) (0.4.8)\n",
      "Requirement already satisfied: zipp>=0.5 in c:\\users\\24937\\anaconda3\\lib\\site-packages (from importlib-metadata; python_version < \"3.8\"->markdown>=2.6.8->tensorboard~=2.6->tensorflow==2.7.0) (3.1.0)\n",
      "Requirement already satisfied: oauthlib>=3.0.0 in c:\\users\\24937\\anaconda3\\lib\\site-packages (from requests-oauthlib>=0.7.0->google-auth-oauthlib<0.5,>=0.4.1->tensorboard~=2.6->tensorflow==2.7.0) (3.1.0)\n"
     ]
    }
   ],
   "source": [
    "!pip install tensorflow==2.7.0"
   ]
  },
  {
   "cell_type": "markdown",
   "metadata": {},
   "source": [
    "and import required libraries:\n"
   ]
  },
  {
   "cell_type": "code",
   "execution_count": 2,
   "metadata": {},
   "outputs": [],
   "source": [
    "import pandas as pd\n",
    "import tensorflow as tf\n",
    "import matplotlib.pyplot as plt\n",
    "\n",
    "from tensorflow import keras\n",
    "from tensorflow.keras import layers"
   ]
  },
  {
   "cell_type": "code",
   "execution_count": 3,
   "metadata": {},
   "outputs": [],
   "source": [
    "# also set a random state\n",
    "rs = 123"
   ]
  },
  {
   "cell_type": "markdown",
   "metadata": {},
   "source": [
    "### Load and processing rating dataset\n"
   ]
  },
  {
   "cell_type": "code",
   "execution_count": 4,
   "metadata": {},
   "outputs": [
    {
     "data": {
      "text/html": [
       "<div>\n",
       "<style scoped>\n",
       "    .dataframe tbody tr th:only-of-type {\n",
       "        vertical-align: middle;\n",
       "    }\n",
       "\n",
       "    .dataframe tbody tr th {\n",
       "        vertical-align: top;\n",
       "    }\n",
       "\n",
       "    .dataframe thead th {\n",
       "        text-align: right;\n",
       "    }\n",
       "</style>\n",
       "<table border=\"1\" class=\"dataframe\">\n",
       "  <thead>\n",
       "    <tr style=\"text-align: right;\">\n",
       "      <th></th>\n",
       "      <th>user</th>\n",
       "      <th>item</th>\n",
       "      <th>rating</th>\n",
       "    </tr>\n",
       "  </thead>\n",
       "  <tbody>\n",
       "    <tr>\n",
       "      <th>0</th>\n",
       "      <td>1889878</td>\n",
       "      <td>CC0101EN</td>\n",
       "      <td>3.0</td>\n",
       "    </tr>\n",
       "    <tr>\n",
       "      <th>1</th>\n",
       "      <td>1342067</td>\n",
       "      <td>CL0101EN</td>\n",
       "      <td>3.0</td>\n",
       "    </tr>\n",
       "    <tr>\n",
       "      <th>2</th>\n",
       "      <td>1990814</td>\n",
       "      <td>ML0120ENv3</td>\n",
       "      <td>3.0</td>\n",
       "    </tr>\n",
       "    <tr>\n",
       "      <th>3</th>\n",
       "      <td>380098</td>\n",
       "      <td>BD0211EN</td>\n",
       "      <td>3.0</td>\n",
       "    </tr>\n",
       "    <tr>\n",
       "      <th>4</th>\n",
       "      <td>779563</td>\n",
       "      <td>DS0101EN</td>\n",
       "      <td>3.0</td>\n",
       "    </tr>\n",
       "  </tbody>\n",
       "</table>\n",
       "</div>"
      ],
      "text/plain": [
       "      user        item  rating\n",
       "0  1889878    CC0101EN     3.0\n",
       "1  1342067    CL0101EN     3.0\n",
       "2  1990814  ML0120ENv3     3.0\n",
       "3   380098    BD0211EN     3.0\n",
       "4   779563    DS0101EN     3.0"
      ]
     },
     "execution_count": 4,
     "metadata": {},
     "output_type": "execute_result"
    }
   ],
   "source": [
    "rating_url = \"https://cf-courses-data.s3.us.cloud-object-storage.appdomain.cloud/IBM-ML321EN-SkillsNetwork/labs/datasets/ratings.csv\"\n",
    "rating_df = pd.read_csv(rating_url)\n",
    "rating_df.head()"
   ]
  },
  {
   "cell_type": "markdown",
   "metadata": {},
   "source": [
    "This is the same rating dataset we have been using in previous lab, which contains the three main columns: `user`, `item`, and `rating`.\n"
   ]
  },
  {
   "cell_type": "markdown",
   "metadata": {},
   "source": [
    "Next, let's figure out how many unique users and items, their total numbers will determine the sizes of one-hot encoding vectors.\n"
   ]
  },
  {
   "cell_type": "code",
   "execution_count": 5,
   "metadata": {},
   "outputs": [
    {
     "name": "stdout",
     "output_type": "stream",
     "text": [
      "There are total `33901` of users and `126` items\n"
     ]
    }
   ],
   "source": [
    "num_users = len(rating_df['user'].unique())\n",
    "num_items = len(rating_df['item'].unique())\n",
    "print(f\"There are total `{num_users}` of users and `{num_items}` items\")"
   ]
  },
  {
   "cell_type": "markdown",
   "metadata": {},
   "source": [
    "It means our each user can be represented as a `33901 x 1` one-hot vector and each item can be represented as `126 x 1` one-hot vector.\n"
   ]
  },
  {
   "cell_type": "markdown",
   "metadata": {},
   "source": [
    "The goal is to create a neural network structure that can take the user and item one-hot vectors as inputs and outputs a rating estimation or the probability of interaction (such as the probability of completing a course).\n",
    "\n",
    "While training and updating the weights in the neural network, its hidden layers should be able to capture the pattern or features for each user and item. Based on this idea, we can design a simple neural network architecture like the following:\n"
   ]
  },
  {
   "cell_type": "markdown",
   "metadata": {},
   "source": [
    "![](https://cf-courses-data.s3.us.cloud-object-storage.appdomain.cloud/IBM-ML321EN-SkillsNetwork/labs/module\\_4/images/embedding_feature_vector.png)\n"
   ]
  },
  {
   "cell_type": "markdown",
   "metadata": {},
   "source": [
    "The network inputs are two one-hot encoding vectors, the blue one is for the user and the green one is for the item. Then on top of them, we added two embedding layers. Here embedding means embedding the one-hot encoding vector into a latent feature space. The embedding layer is a fully-connected layer that outputs the embedding feature vectors. For example, the user embedding layer takes `33901 x 1` one-hot vector as input and outputs a `16 x 1` embedding vector.\n"
   ]
  },
  {
   "cell_type": "markdown",
   "metadata": {},
   "source": [
    "The embedding layer outputs two embedding vectors, which are similar to Non-negative matrix factorization. Then we could simply dot the product the user and item embedding vector to output a rating estimation.\n"
   ]
  },
  {
   "cell_type": "markdown",
   "metadata": {},
   "source": [
    "#### Implementing the recommender neural network using tensorflow\n"
   ]
  },
  {
   "cell_type": "markdown",
   "metadata": {},
   "source": [
    "This network architecture could be defined and implemented as a sub-class inheriting the `tensorflow.keras.Model` super class, let's call it `RecommenderNet()`.\n"
   ]
  },
  {
   "cell_type": "code",
   "execution_count": 6,
   "metadata": {},
   "outputs": [],
   "source": [
    "class RecommenderNet(keras.Model):\n",
    "    \n",
    "    def __init__(self, num_users, num_items, embedding_size=16, **kwargs):\n",
    "        \"\"\"\n",
    "           Constructor\n",
    "           :param int num_users: number of users\n",
    "           :param int num_items: number of items\n",
    "           :param int embedding_size: the size of embedding vector\n",
    "        \"\"\"\n",
    "        super(RecommenderNet, self).__init__(**kwargs)\n",
    "        self.num_users = num_users\n",
    "        self.num_items = num_items\n",
    "        self.embedding_size = embedding_size\n",
    "        \n",
    "        # Define a user_embedding vector\n",
    "        # Input dimension is the num_users\n",
    "        # Output dimension is the embedding size\n",
    "        self.user_embedding_layer = layers.Embedding(\n",
    "            input_dim=num_users,\n",
    "            output_dim=embedding_size,\n",
    "            name='user_embedding_layer',\n",
    "            embeddings_initializer=\"he_normal\",\n",
    "            embeddings_regularizer=keras.regularizers.l2(1e-6),\n",
    "        )\n",
    "        # Define a user bias layer\n",
    "        self.user_bias = layers.Embedding(\n",
    "            input_dim=num_users,\n",
    "            output_dim=1,\n",
    "            name=\"user_bias\")\n",
    "        \n",
    "        # Define an item_embedding vector\n",
    "        # Input dimension is the num_items\n",
    "        # Output dimension is the embedding size\n",
    "        self.item_embedding_layer = layers.Embedding(\n",
    "            input_dim=num_items,\n",
    "            output_dim=embedding_size,\n",
    "            name='item_embedding_layer',\n",
    "            embeddings_initializer=\"he_normal\",\n",
    "            embeddings_regularizer=keras.regularizers.l2(1e-6),\n",
    "        )\n",
    "        # Define an item bias layer\n",
    "        self.item_bias = layers.Embedding(\n",
    "            input_dim=num_items,\n",
    "            output_dim=1,\n",
    "            name=\"item_bias\")\n",
    "        \n",
    "    def call(self, inputs):\n",
    "        \"\"\"\n",
    "           method to be called during model fitting\n",
    "           \n",
    "           :param inputs: user and item one-hot vectors\n",
    "        \"\"\"\n",
    "        # Compute the user embedding vector\n",
    "        user_vector = self.user_embedding_layer(inputs[:, 0])\n",
    "        user_bias = self.user_bias(inputs[:, 0])\n",
    "        item_vector = self.item_embedding_layer(inputs[:, 1])\n",
    "        item_bias = self.item_bias(inputs[:, 1])\n",
    "        dot_user_item = tf.tensordot(user_vector, item_vector, 2)\n",
    "        # Add all the components (including bias)\n",
    "        x = dot_user_item + user_bias + item_bias\n",
    "        # Sigmoid output layer to output the probability\n",
    "        return tf.nn.relu(x)"
   ]
  },
  {
   "cell_type": "markdown",
   "metadata": {},
   "source": [
    "### TASK: Train and evaluate the RecommenderNet()\n"
   ]
  },
  {
   "cell_type": "markdown",
   "metadata": {},
   "source": [
    "Now it's time to train and evaluate the defined `RecommenderNet()`. First, we need to process the original rating dataset a little bit by converting the actual user ids and item ids into integer indices for `tensorflow` to creating the one-hot encoding vectors.\n"
   ]
  },
  {
   "cell_type": "code",
   "execution_count": 7,
   "metadata": {},
   "outputs": [],
   "source": [
    "def process_dataset(raw_data):\n",
    "    \n",
    "    encoded_data = raw_data.copy()\n",
    "    \n",
    "    # Mapping user ids to indices\n",
    "    user_list = encoded_data[\"user\"].unique().tolist()\n",
    "    user_id2idx_dict = {x: i for i, x in enumerate(user_list)}\n",
    "    user_idx2id_dict = {i: x for i, x in enumerate(user_list)}\n",
    "    \n",
    "    # Mapping course ids to indices\n",
    "    course_list = encoded_data[\"item\"].unique().tolist()\n",
    "    course_id2idx_dict = {x: i for i, x in enumerate(course_list)}\n",
    "    course_idx2id_dict = {i: x for i, x in enumerate(course_list)}\n",
    "\n",
    "    # Convert original user ids to idx\n",
    "    encoded_data[\"user\"] = encoded_data[\"user\"].map(user_id2idx_dict)\n",
    "    # Convert original course ids to idx\n",
    "    encoded_data[\"item\"] = encoded_data[\"item\"].map(course_id2idx_dict)\n",
    "    # Convert rating to int\n",
    "    encoded_data[\"rating\"] = encoded_data[\"rating\"].values.astype(\"int\")\n",
    "\n",
    "    return encoded_data, user_idx2id_dict, course_idx2id_dict"
   ]
  },
  {
   "cell_type": "code",
   "execution_count": 8,
   "metadata": {},
   "outputs": [],
   "source": [
    "encoded_data, user_idx2id_dict, course_idx2id_dict = process_dataset(rating_df)"
   ]
  },
  {
   "cell_type": "code",
   "execution_count": 9,
   "metadata": {},
   "outputs": [
    {
     "data": {
      "text/html": [
       "<div>\n",
       "<style scoped>\n",
       "    .dataframe tbody tr th:only-of-type {\n",
       "        vertical-align: middle;\n",
       "    }\n",
       "\n",
       "    .dataframe tbody tr th {\n",
       "        vertical-align: top;\n",
       "    }\n",
       "\n",
       "    .dataframe thead th {\n",
       "        text-align: right;\n",
       "    }\n",
       "</style>\n",
       "<table border=\"1\" class=\"dataframe\">\n",
       "  <thead>\n",
       "    <tr style=\"text-align: right;\">\n",
       "      <th></th>\n",
       "      <th>user</th>\n",
       "      <th>item</th>\n",
       "      <th>rating</th>\n",
       "    </tr>\n",
       "  </thead>\n",
       "  <tbody>\n",
       "    <tr>\n",
       "      <th>0</th>\n",
       "      <td>0</td>\n",
       "      <td>0</td>\n",
       "      <td>3</td>\n",
       "    </tr>\n",
       "    <tr>\n",
       "      <th>1</th>\n",
       "      <td>1</td>\n",
       "      <td>1</td>\n",
       "      <td>3</td>\n",
       "    </tr>\n",
       "    <tr>\n",
       "      <th>2</th>\n",
       "      <td>2</td>\n",
       "      <td>2</td>\n",
       "      <td>3</td>\n",
       "    </tr>\n",
       "    <tr>\n",
       "      <th>3</th>\n",
       "      <td>3</td>\n",
       "      <td>3</td>\n",
       "      <td>3</td>\n",
       "    </tr>\n",
       "    <tr>\n",
       "      <th>4</th>\n",
       "      <td>4</td>\n",
       "      <td>4</td>\n",
       "      <td>3</td>\n",
       "    </tr>\n",
       "  </tbody>\n",
       "</table>\n",
       "</div>"
      ],
      "text/plain": [
       "   user  item  rating\n",
       "0     0     0       3\n",
       "1     1     1       3\n",
       "2     2     2       3\n",
       "3     3     3       3\n",
       "4     4     4       3"
      ]
     },
     "execution_count": 9,
     "metadata": {},
     "output_type": "execute_result"
    }
   ],
   "source": [
    "encoded_data.head()"
   ]
  },
  {
   "cell_type": "markdown",
   "metadata": {},
   "source": [
    "Then we can split the encoded dataset into training and testing datasets.\n"
   ]
  },
  {
   "cell_type": "code",
   "execution_count": 10,
   "metadata": {},
   "outputs": [],
   "source": [
    "def generate_train_test_datasets(dataset, scale=True):\n",
    "\n",
    "    min_rating = min(dataset[\"rating\"])\n",
    "    max_rating = max(dataset[\"rating\"])\n",
    "\n",
    "    dataset = dataset.sample(frac=1, random_state=42)\n",
    "    x = dataset[[\"user\", \"item\"]].values\n",
    "    if scale:\n",
    "        y = dataset[\"rating\"].apply(lambda x: (x - min_rating) / (max_rating - min_rating)).values\n",
    "    else:\n",
    "        y = dataset[\"rating\"].values\n",
    "\n",
    "    # Assuming training on 80% of the data and validating on 10%, and testing 10%\n",
    "    train_indices = int(0.8 * dataset.shape[0])\n",
    "    test_indices = int(0.9 * dataset.shape[0])\n",
    "\n",
    "    x_train, x_val, x_test, y_train, y_val, y_test = (\n",
    "        x[:train_indices],\n",
    "        x[train_indices:test_indices],\n",
    "        x[test_indices:],\n",
    "        y[:train_indices],\n",
    "        y[train_indices:test_indices],\n",
    "        y[test_indices:],\n",
    "    )\n",
    "    return x_train, x_val, x_test, y_train, y_val, y_test"
   ]
  },
  {
   "cell_type": "code",
   "execution_count": 11,
   "metadata": {},
   "outputs": [],
   "source": [
    "x_train, x_val, x_test, y_train, y_val, y_test = generate_train_test_datasets(encoded_data)"
   ]
  },
  {
   "cell_type": "markdown",
   "metadata": {},
   "source": [
    "If we take a look at the training input data, it is simply just a list of user indices and item indices, which is a dense format of one-hot encoding vectors.\n"
   ]
  },
  {
   "cell_type": "code",
   "execution_count": 12,
   "metadata": {},
   "outputs": [
    {
     "data": {
      "text/plain": [
       "array([ 8376,  7659, 10717, ...,  3409, 28761,  4973], dtype=int64)"
      ]
     },
     "execution_count": 12,
     "metadata": {},
     "output_type": "execute_result"
    }
   ],
   "source": [
    "user_indices = x_train[:, 0]\n",
    "user_indices"
   ]
  },
  {
   "cell_type": "code",
   "execution_count": 13,
   "metadata": {},
   "outputs": [
    {
     "data": {
      "text/plain": [
       "array([12, 29,  3, ..., 18, 19, 17], dtype=int64)"
      ]
     },
     "execution_count": 13,
     "metadata": {},
     "output_type": "execute_result"
    }
   ],
   "source": [
    "item_indices = x_train[:, 1]\n",
    "item_indices"
   ]
  },
  {
   "cell_type": "markdown",
   "metadata": {},
   "source": [
    "and training output labels are a list of 0s and 1s indicating if the user has completed a course or not.\n"
   ]
  },
  {
   "cell_type": "code",
   "execution_count": 14,
   "metadata": {},
   "outputs": [
    {
     "data": {
      "text/plain": [
       "array([1., 1., 1., ..., 1., 0., 1.])"
      ]
     },
     "execution_count": 14,
     "metadata": {},
     "output_type": "execute_result"
    }
   ],
   "source": [
    "y_train"
   ]
  },
  {
   "cell_type": "markdown",
   "metadata": {},
   "source": [
    "Then we can choose a small embedding vector size to be 16 and create a `RecommenderNet()` model to be trained\n"
   ]
  },
  {
   "cell_type": "code",
   "execution_count": 15,
   "metadata": {},
   "outputs": [],
   "source": [
    "embedding_size = 16\n",
    "model = RecommenderNet(num_users, num_items, embedding_size)"
   ]
  },
  {
   "cell_type": "markdown",
   "metadata": {},
   "source": [
    "*TODO: Train the RecommenderNet() model*\n"
   ]
  },
  {
   "cell_type": "code",
   "execution_count": 16,
   "metadata": {},
   "outputs": [],
   "source": [
    "## WRITE YOUR CODE HERE:\n",
    "\n",
    "## - call model.compile() method to set up the loss and optimizer and metrics for the model training, you may use\n",
    "##  - - tf.keras.losses.MeanSquaredError() as training loss\n",
    "##  - - keras.optimizers.Adam() as optimizer\n",
    "##  - - tf.keras.metrics.RootMeanSquaredError() as metric\n",
    "model.compile(optimizer = tf.keras.optimizers.Adam(), \n",
    "              loss = tf.keras.losses.MeanSquaredError(), \n",
    "              metrics = tf.keras.metrics.RootMeanSquaredError())\n",
    "## - call model.fit() to train the model\n",
    "#model.fit(x_train, y_train, validation_data=(x_val, y_val))\n",
    "## - optionally call model.save() to save the model\n",
    "#model.save('my_model.h5')\n",
    "## - plot the train and validation loss\n"
   ]
  },
  {
   "cell_type": "code",
   "execution_count": 19,
   "metadata": {},
   "outputs": [
    {
     "name": "stdout",
     "output_type": "stream",
     "text": [
      "Epoch 1/20\n",
      "5833/5833 [==============================] - 50s 9ms/step - loss: 0.0216 - root_mean_squared_error: 0.1431 - val_loss: 0.0223 - val_root_mean_squared_error: 0.1451\n",
      "Epoch 2/20\n",
      "5833/5833 [==============================] - 50s 8ms/step - loss: 0.0175 - root_mean_squared_error: 0.1278 - val_loss: 0.0198 - val_root_mean_squared_error: 0.1369\n",
      "Epoch 3/20\n",
      "5833/5833 [==============================] - 49s 8ms/step - loss: 0.0145 - root_mean_squared_error: 0.1160 - val_loss: 0.0181 - val_root_mean_squared_error: 0.1307\n",
      "Epoch 4/20\n",
      "5833/5833 [==============================] - 48s 8ms/step - loss: 0.0121 - root_mean_squared_error: 0.1055 - val_loss: 0.0164 - val_root_mean_squared_error: 0.1244\n",
      "Epoch 5/20\n",
      "5833/5833 [==============================] - 51s 9ms/step - loss: 0.0101 - root_mean_squared_error: 0.0957 - val_loss: 0.0152 - val_root_mean_squared_error: 0.1195\n",
      "Epoch 6/20\n",
      "5833/5833 [==============================] - 48s 8ms/step - loss: 0.0084 - root_mean_squared_error: 0.0870 - val_loss: 0.0138 - val_root_mean_squared_error: 0.1140\n",
      "Epoch 7/20\n",
      "5833/5833 [==============================] - 51s 9ms/step - loss: 0.0070 - root_mean_squared_error: 0.0790 - val_loss: 0.0130 - val_root_mean_squared_error: 0.1105\n",
      "Epoch 8/20\n",
      "5833/5833 [==============================] - 51s 9ms/step - loss: 0.0060 - root_mean_squared_error: 0.0722 - val_loss: 0.0122 - val_root_mean_squared_error: 0.1073\n",
      "Epoch 9/20\n",
      "5833/5833 [==============================] - 50s 8ms/step - loss: 0.0051 - root_mean_squared_error: 0.0660 - val_loss: 0.0114 - val_root_mean_squared_error: 0.1036\n",
      "Epoch 10/20\n",
      "5833/5833 [==============================] - 53s 9ms/step - loss: 0.0044 - root_mean_squared_error: 0.0611 - val_loss: 0.0108 - val_root_mean_squared_error: 0.1007\n",
      "Epoch 11/20\n",
      "5833/5833 [==============================] - 49s 8ms/step - loss: 0.0038 - root_mean_squared_error: 0.0566 - val_loss: 0.0105 - val_root_mean_squared_error: 0.0995\n",
      "Epoch 12/20\n",
      "5833/5833 [==============================] - 49s 8ms/step - loss: 0.0035 - root_mean_squared_error: 0.0539 - val_loss: 0.0102 - val_root_mean_squared_error: 0.0980\n",
      "Epoch 13/20\n",
      "5833/5833 [==============================] - 55s 9ms/step - loss: 0.0032 - root_mean_squared_error: 0.0513 - val_loss: 0.0098 - val_root_mean_squared_error: 0.0963\n",
      "Epoch 14/20\n",
      "5833/5833 [==============================] - 55s 9ms/step - loss: 0.0031 - root_mean_squared_error: 0.0502 - val_loss: 0.0098 - val_root_mean_squared_error: 0.0962\n",
      "Epoch 15/20\n",
      "5833/5833 [==============================] - 51s 9ms/step - loss: 0.0030 - root_mean_squared_error: 0.0497 - val_loss: 0.0096 - val_root_mean_squared_error: 0.0951\n",
      "Epoch 16/20\n",
      "5833/5833 [==============================] - 50s 9ms/step - loss: 0.0030 - root_mean_squared_error: 0.0494 - val_loss: 0.0095 - val_root_mean_squared_error: 0.0948\n",
      "Epoch 17/20\n",
      "5833/5833 [==============================] - 56s 10ms/step - loss: 0.0030 - root_mean_squared_error: 0.0493 - val_loss: 0.0095 - val_root_mean_squared_error: 0.0944\n",
      "Epoch 18/20\n",
      "5833/5833 [==============================] - 57s 10ms/step - loss: 0.0030 - root_mean_squared_error: 0.0495 - val_loss: 0.0092 - val_root_mean_squared_error: 0.0930\n",
      "Epoch 19/20\n",
      "5833/5833 [==============================] - 57s 10ms/step - loss: 0.0030 - root_mean_squared_error: 0.0495 - val_loss: 0.0091 - val_root_mean_squared_error: 0.0922\n",
      "Epoch 20/20\n",
      "5833/5833 [==============================] - 55s 9ms/step - loss: 0.0030 - root_mean_squared_error: 0.0493 - val_loss: 0.0090 - val_root_mean_squared_error: 0.0922\n"
     ]
    }
   ],
   "source": [
    "history = model.fit(x_train, y_train, epochs=20, validation_data=(x_val, y_val))"
   ]
  },
  {
   "cell_type": "code",
   "execution_count": 24,
   "metadata": {},
   "outputs": [
    {
     "data": {
      "image/png": "[encoded data removed]",
      "text/plain": [
       "<Figure size 432x288 with 1 Axes>"
      ]
     },
     "metadata": {
      "needs_background": "light"
     },
     "output_type": "display_data"
    }
   ],
   "source": [
    "from matplotlib import pyplot as plt\n",
    "plt.plot(history.history['root_mean_squared_error'])\n",
    "plt.plot(history.history['val_root_mean_squared_error'])\n",
    "plt.title('model RMSE')\n",
    "plt.ylabel('RMSE')\n",
    "plt.xlabel('epoch')\n",
    "plt.legend(['train', 'val'], loc='upper left')\n",
    "plt.show()"
   ]
  },
  {
   "cell_type": "markdown",
   "metadata": {},
   "source": [
    "*TODO:* Evaluate the trained model\n"
   ]
  },
  {
   "cell_type": "code",
   "execution_count": 32,
   "metadata": {},
   "outputs": [
    {
     "name": "stdout",
     "output_type": "stream",
     "text": [
      "Epoch 1/13\n",
      "5833/5833 [==============================] - 48s 8ms/step - loss: 0.0030 - root_mean_squared_error: 0.0494 - val_loss: 0.0073 - val_root_mean_squared_error: 0.0819\n",
      "Epoch 2/13\n",
      "5833/5833 [==============================] - 43s 7ms/step - loss: 0.0030 - root_mean_squared_error: 0.0495 - val_loss: 0.0074 - val_root_mean_squared_error: 0.0826\n",
      "Epoch 3/13\n",
      "5833/5833 [==============================] - 49s 8ms/step - loss: 0.0030 - root_mean_squared_error: 0.0494 - val_loss: 0.0073 - val_root_mean_squared_error: 0.0819\n",
      "Epoch 4/13\n",
      "5833/5833 [==============================] - 47s 8ms/step - loss: 0.0030 - root_mean_squared_error: 0.0495 - val_loss: 0.0072 - val_root_mean_squared_error: 0.0812\n",
      "Epoch 5/13\n",
      "5833/5833 [==============================] - 46s 8ms/step - loss: 0.0030 - root_mean_squared_error: 0.0494 - val_loss: 0.0072 - val_root_mean_squared_error: 0.0816\n",
      "Epoch 6/13\n",
      "5833/5833 [==============================] - 46s 8ms/step - loss: 0.0030 - root_mean_squared_error: 0.0494 - val_loss: 0.0069 - val_root_mean_squared_error: 0.0798\n",
      "Epoch 7/13\n",
      "5833/5833 [==============================] - 46s 8ms/step - loss: 0.0030 - root_mean_squared_error: 0.0495 - val_loss: 0.0069 - val_root_mean_squared_error: 0.0794\n",
      "Epoch 8/13\n",
      "5833/5833 [==============================] - 47s 8ms/step - loss: 0.0030 - root_mean_squared_error: 0.0493 - val_loss: 0.0068 - val_root_mean_squared_error: 0.0788\n",
      "Epoch 9/13\n",
      "5833/5833 [==============================] - 50s 9ms/step - loss: 0.0030 - root_mean_squared_error: 0.0494 - val_loss: 0.0067 - val_root_mean_squared_error: 0.0784\n",
      "Epoch 10/13\n",
      "5833/5833 [==============================] - 43s 7ms/step - loss: 0.0030 - root_mean_squared_error: 0.0495 - val_loss: 0.0066 - val_root_mean_squared_error: 0.0778\n",
      "Epoch 11/13\n",
      "5833/5833 [==============================] - 44s 7ms/step - loss: 0.0030 - root_mean_squared_error: 0.0494 - val_loss: 0.0066 - val_root_mean_squared_error: 0.0774\n",
      "Epoch 12/13\n",
      "5833/5833 [==============================] - 52s 9ms/step - loss: 0.0030 - root_mean_squared_error: 0.0496 - val_loss: 0.0065 - val_root_mean_squared_error: 0.0767\n",
      "Epoch 13/13\n",
      "5833/5833 [==============================] - 47s 8ms/step - loss: 0.0030 - root_mean_squared_error: 0.0493 - val_loss: 0.0063 - val_root_mean_squared_error: 0.0755\n"
     ]
    },
    {
     "data": {
      "text/plain": [
       "<keras.callbacks.History at 0x27b6f5cbf08>"
      ]
     },
     "execution_count": 32,
     "metadata": {},
     "output_type": "execute_result"
    }
   ],
   "source": [
    "### WRITE YOUR CODE HERE\n",
    "model.fit(x_train, y_train, epochs=13, validation_data=(x_val, y_val))\n",
    "### - call model.evaluate() to evaluate the model\n",
    "#model.evaluate()"
   ]
  },
  {
   "cell_type": "code",
   "execution_count": 31,
   "metadata": {},
   "outputs": [
    {
     "name": "stdout",
     "output_type": "stream",
     "text": [
      "730/730 [==============================] - 2s 3ms/step - loss: 0.0072 - root_mean_squared_error: 0.0816\n"
     ]
    },
    {
     "data": {
      "text/plain": [
       "[0.0072157057002186775, 0.08157782256603241]"
      ]
     },
     "execution_count": 31,
     "metadata": {},
     "output_type": "execute_result"
    }
   ],
   "source": [
    "model.evaluate(x_test, y_test)"
   ]
  },
  {
   "cell_type": "markdown",
   "metadata": {},
   "source": [
    "### Extract the user and item embedding vectors as latent feature vectors\n"
   ]
  },
  {
   "cell_type": "markdown",
   "metadata": {},
   "source": [
    "Now, we have trained the `RecommenderNet()` model and it can predict the ratings with relatively small RMSE.\n",
    "\n",
    "If we print the trained model then we can see its layers and their parameters/weights.\n"
   ]
  },
  {
   "cell_type": "code",
   "execution_count": 26,
   "metadata": {},
   "outputs": [
    {
     "name": "stdout",
     "output_type": "stream",
     "text": [
      "Model: \"recommender_net\"\n",
      "_________________________________________________________________\n",
      " Layer (type)                Output Shape              Param #   \n",
      "=================================================================\n",
      " user_embedding_layer (Embed  multiple                 542416    \n",
      " ding)                                                           \n",
      "                                                                 \n",
      " user_bias (Embedding)       multiple                  33901     \n",
      "                                                                 \n",
      " item_embedding_layer (Embed  multiple                 2016      \n",
      " ding)                                                           \n",
      "                                                                 \n",
      " item_bias (Embedding)       multiple                  126       \n",
      "                                                                 \n",
      "=================================================================\n",
      "Total params: 578,459\n",
      "Trainable params: 578,459\n",
      "Non-trainable params: 0\n",
      "_________________________________________________________________\n"
     ]
    }
   ],
   "source": [
    "model.summary()"
   ]
  },
  {
   "cell_type": "markdown",
   "metadata": {},
   "source": [
    "In the `RecommenderNet`, the `user_embedding_layer` and `item_embedding_layer` layers contain the trained weights. Essentially, they are the latent user and item features learned by `RecommenderNet` and will be used to predict the interaction. As such, while training the neural network to predict rating, the embedding layers are simultaneously trained to extract the embedding user and item features.\n"
   ]
  },
  {
   "cell_type": "markdown",
   "metadata": {},
   "source": [
    "We can easily get the actual weights using `model.get_layer().get_weights()` methods\n"
   ]
  },
  {
   "cell_type": "code",
   "execution_count": 27,
   "metadata": {},
   "outputs": [
    {
     "name": "stdout",
     "output_type": "stream",
     "text": [
      "User features shape: (33901, 16)\n"
     ]
    }
   ],
   "source": [
    "# User features\n",
    "user_latent_features = model.get_layer('user_embedding_layer').get_weights()[0]\n",
    "print(f\"User features shape: {user_latent_features.shape}\")"
   ]
  },
  {
   "cell_type": "code",
   "execution_count": 28,
   "metadata": {},
   "outputs": [
    {
     "data": {
      "text/plain": [
       "array([-0.08447102,  0.05703237,  0.02421184,  0.00126506, -0.01348599,\n",
       "        0.04233592,  0.02356078, -0.09683656,  0.01956044, -0.07357011,\n",
       "       -0.02116659, -0.04332814,  0.03481758,  0.00294088, -0.04827016,\n",
       "        0.03451294], dtype=float32)"
      ]
     },
     "execution_count": 28,
     "metadata": {},
     "output_type": "execute_result"
    }
   ],
   "source": [
    "user_latent_features[0]"
   ]
  },
  {
   "cell_type": "code",
   "execution_count": 29,
   "metadata": {},
   "outputs": [
    {
     "name": "stdout",
     "output_type": "stream",
     "text": [
      "Item features shape: (126, 16)\n"
     ]
    }
   ],
   "source": [
    "item_latent_features = model.get_layer('item_embedding_layer').get_weights()[0]\n",
    "print(f\"Item features shape: {item_latent_features.shape}\")"
   ]
  },
  {
   "cell_type": "code",
   "execution_count": 30,
   "metadata": {},
   "outputs": [
    {
     "data": {
      "text/plain": [
       "array([-0.0110972 ,  0.03042491,  0.03290954,  0.03166502, -0.01908941,\n",
       "        0.01900925,  0.01034377,  0.01307198, -0.03356951, -0.0431426 ,\n",
       "       -0.01247258,  0.0066656 , -0.00872028, -0.0096144 , -0.00914312,\n",
       "        0.00237382], dtype=float32)"
      ]
     },
     "execution_count": 30,
     "metadata": {},
     "output_type": "execute_result"
    }
   ],
   "source": [
    "item_latent_features[0]"
   ]
  },
  {
   "cell_type": "markdown",
   "metadata": {},
   "source": [
    "Now, each user of the total 33901 users has been transformed into a 16 x 1 latent feature vector and each item of the total 126 has been transformed into a 16 x 1 latent feature vector.\n"
   ]
  },
  {
   "cell_type": "markdown",
   "metadata": {},
   "source": [
    "### TASK (Optional): Customize the RecommenderNet to potentially improve the model performance\n"
   ]
  },
  {
   "cell_type": "markdown",
   "metadata": {},
   "source": [
    "The pre-defined `RecommenderNet()` is a actually very basic neural network, you are encouraged to customize it to see if model prediction performance will be improved. Here are some directions:\n",
    "\n",
    "*   Hyperparameter tuning, such as the embedding layer dimensions\n",
    "*   Add more hidden layers\n",
    "*   Try different activation functions such as `ReLu`\n"
   ]
  },
  {
   "cell_type": "code",
   "execution_count": null,
   "metadata": {},
   "outputs": [],
   "source": [
    "## WRITE YOUR CODE HERE\n",
    "\n",
    "## Update RecommenderNet() class\n",
    "\n",
    "## compile and fit the updated model\n",
    "\n",
    "## evaluate the updated model\n"
   ]
  },
  {
   "cell_type": "markdown",
   "metadata": {},
   "source": [
    "### Summary\n"
   ]
  },
  {
   "cell_type": "markdown",
   "metadata": {},
   "source": [
    "In this lab, you have learned and practiced predicting course ratings using neural networks. With a predefined and trained neural network, we can extract or embed users and items into latent feature spaces and further predict the interaction between a user and an item with the latent feature vectors.\n"
   ]
  },
  {
   "cell_type": "markdown",
   "metadata": {},
   "source": [
    "## Authors\n"
   ]
  },
  {
   "cell_type": "markdown",
   "metadata": {},
   "source": [
    "[Yan Luo](https://www.linkedin.com/in/yan-luo-96288783/?utm_medium=Exinfluencer&utm_source=Exinfluencer&utm_content=000026UJ&utm_term=10006555&utm_id=NA-SkillsNetwork-Channel-SkillsNetworkCoursesIBMML321ENSkillsNetwork32585014-2022-01-01)\n"
   ]
  },
  {
   "cell_type": "markdown",
   "metadata": {},
   "source": [
    "### Other Contributors\n"
   ]
  },
  {
   "cell_type": "markdown",
   "metadata": {},
   "source": [
    "## Change Log\n"
   ]
  },
  {
   "cell_type": "markdown",
   "metadata": {},
   "source": [
    "| Date (YYYY-MM-DD) | Version | Changed By | Change Description          |\n",
    "| ----------------- | ------- | ---------- | --------------------------- |\n",
    "| 2021-10-25        | 1.0     | Yan        | Created the initial version |\n"
   ]
  },
  {
   "cell_type": "markdown",
   "metadata": {},
   "source": [
    "Copyright © 2021 IBM Corporation. All rights reserved.\n"
   ]
  }
 ],
 "metadata": {
  "kernelspec": {
   "display_name": "Python 3",
   "language": "python",
   "name": "python3"
  },
  "language_info": {
   "codemirror_mode": {
    "name": "ipython",
    "version": 3
   },
   "file_extension": ".py",
   "mimetype": "text/x-python",
   "name": "python",
   "nbconvert_exporter": "python",
   "pygments_lexer": "ipython3",
   "version": "3.7.7"
  }
 },
 "nbformat": 4,
 "nbformat_minor": 4
}
